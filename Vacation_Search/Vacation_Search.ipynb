{
 "cells": [
  {
   "cell_type": "markdown",
   "id": "6b4720a6",
   "metadata": {},
   "source": [
    "#### Vacation_Search\n",
    "#### Colin Brineman, M.A."
   ]
  },
  {
   "cell_type": "markdown",
   "id": "b74f4221",
   "metadata": {},
   "source": [
    "# Import weather data"
   ]
  },
  {
   "cell_type": "code",
   "execution_count": 1,
   "id": "6999a19c",
   "metadata": {},
   "outputs": [
    {
     "data": {
      "text/html": [
       "<div>\n",
       "<style scoped>\n",
       "    .dataframe tbody tr th:only-of-type {\n",
       "        vertical-align: middle;\n",
       "    }\n",
       "\n",
       "    .dataframe tbody tr th {\n",
       "        vertical-align: top;\n",
       "    }\n",
       "\n",
       "    .dataframe thead th {\n",
       "        text-align: right;\n",
       "    }\n",
       "</style>\n",
       "<table border=\"1\" class=\"dataframe\">\n",
       "  <thead>\n",
       "    <tr style=\"text-align: right;\">\n",
       "      <th></th>\n",
       "      <th>Unnamed: 0</th>\n",
       "      <th>City</th>\n",
       "      <th>Country</th>\n",
       "      <th>Lat</th>\n",
       "      <th>Lng</th>\n",
       "      <th>Max Temp</th>\n",
       "      <th>Humidity</th>\n",
       "      <th>Cloudiness</th>\n",
       "      <th>Wind Speed</th>\n",
       "      <th>Current Description</th>\n",
       "    </tr>\n",
       "  </thead>\n",
       "  <tbody>\n",
       "    <tr>\n",
       "      <th>0</th>\n",
       "      <td>0</td>\n",
       "      <td>Haines Junction</td>\n",
       "      <td>CA</td>\n",
       "      <td>60.7522</td>\n",
       "      <td>-137.5108</td>\n",
       "      <td>-4.03</td>\n",
       "      <td>93</td>\n",
       "      <td>100</td>\n",
       "      <td>0.51</td>\n",
       "      <td>overcast clouds</td>\n",
       "    </tr>\n",
       "    <tr>\n",
       "      <th>1</th>\n",
       "      <td>1</td>\n",
       "      <td>Port Elizabeth</td>\n",
       "      <td>ZA</td>\n",
       "      <td>-33.9180</td>\n",
       "      <td>25.5701</td>\n",
       "      <td>22.28</td>\n",
       "      <td>78</td>\n",
       "      <td>75</td>\n",
       "      <td>7.20</td>\n",
       "      <td>broken clouds</td>\n",
       "    </tr>\n",
       "    <tr>\n",
       "      <th>2</th>\n",
       "      <td>2</td>\n",
       "      <td>Tasiilaq</td>\n",
       "      <td>GL</td>\n",
       "      <td>65.6145</td>\n",
       "      <td>-37.6368</td>\n",
       "      <td>-7.91</td>\n",
       "      <td>94</td>\n",
       "      <td>100</td>\n",
       "      <td>5.71</td>\n",
       "      <td>snow</td>\n",
       "    </tr>\n",
       "    <tr>\n",
       "      <th>3</th>\n",
       "      <td>3</td>\n",
       "      <td>Bluff</td>\n",
       "      <td>NZ</td>\n",
       "      <td>-46.6000</td>\n",
       "      <td>168.3333</td>\n",
       "      <td>15.70</td>\n",
       "      <td>70</td>\n",
       "      <td>99</td>\n",
       "      <td>3.83</td>\n",
       "      <td>overcast clouds</td>\n",
       "    </tr>\n",
       "    <tr>\n",
       "      <th>4</th>\n",
       "      <td>4</td>\n",
       "      <td>Rikitea</td>\n",
       "      <td>PF</td>\n",
       "      <td>-23.1203</td>\n",
       "      <td>-134.9692</td>\n",
       "      <td>25.14</td>\n",
       "      <td>69</td>\n",
       "      <td>35</td>\n",
       "      <td>3.35</td>\n",
       "      <td>scattered clouds</td>\n",
       "    </tr>\n",
       "    <tr>\n",
       "      <th>5</th>\n",
       "      <td>5</td>\n",
       "      <td>Bambous Virieux</td>\n",
       "      <td>MU</td>\n",
       "      <td>-20.3428</td>\n",
       "      <td>57.7575</td>\n",
       "      <td>25.68</td>\n",
       "      <td>88</td>\n",
       "      <td>75</td>\n",
       "      <td>0.51</td>\n",
       "      <td>broken clouds</td>\n",
       "    </tr>\n",
       "    <tr>\n",
       "      <th>6</th>\n",
       "      <td>6</td>\n",
       "      <td>Kavieng</td>\n",
       "      <td>PG</td>\n",
       "      <td>-2.5744</td>\n",
       "      <td>150.7967</td>\n",
       "      <td>27.63</td>\n",
       "      <td>77</td>\n",
       "      <td>97</td>\n",
       "      <td>1.27</td>\n",
       "      <td>light rain</td>\n",
       "    </tr>\n",
       "    <tr>\n",
       "      <th>7</th>\n",
       "      <td>7</td>\n",
       "      <td>Lazaro Cardenas</td>\n",
       "      <td>MX</td>\n",
       "      <td>17.9583</td>\n",
       "      <td>-102.2000</td>\n",
       "      <td>27.96</td>\n",
       "      <td>64</td>\n",
       "      <td>11</td>\n",
       "      <td>4.28</td>\n",
       "      <td>few clouds</td>\n",
       "    </tr>\n",
       "    <tr>\n",
       "      <th>8</th>\n",
       "      <td>8</td>\n",
       "      <td>Samarai</td>\n",
       "      <td>PG</td>\n",
       "      <td>-10.6167</td>\n",
       "      <td>150.6667</td>\n",
       "      <td>27.72</td>\n",
       "      <td>76</td>\n",
       "      <td>70</td>\n",
       "      <td>3.88</td>\n",
       "      <td>broken clouds</td>\n",
       "    </tr>\n",
       "    <tr>\n",
       "      <th>9</th>\n",
       "      <td>9</td>\n",
       "      <td>Havre-Saint-Pierre</td>\n",
       "      <td>CA</td>\n",
       "      <td>50.2334</td>\n",
       "      <td>-63.5986</td>\n",
       "      <td>-8.67</td>\n",
       "      <td>72</td>\n",
       "      <td>100</td>\n",
       "      <td>6.17</td>\n",
       "      <td>overcast clouds</td>\n",
       "    </tr>\n",
       "  </tbody>\n",
       "</table>\n",
       "</div>"
      ],
      "text/plain": [
       "   Unnamed: 0                City Country      Lat       Lng  Max Temp  \\\n",
       "0           0     Haines Junction      CA  60.7522 -137.5108     -4.03   \n",
       "1           1      Port Elizabeth      ZA -33.9180   25.5701     22.28   \n",
       "2           2            Tasiilaq      GL  65.6145  -37.6368     -7.91   \n",
       "3           3               Bluff      NZ -46.6000  168.3333     15.70   \n",
       "4           4             Rikitea      PF -23.1203 -134.9692     25.14   \n",
       "5           5     Bambous Virieux      MU -20.3428   57.7575     25.68   \n",
       "6           6             Kavieng      PG  -2.5744  150.7967     27.63   \n",
       "7           7     Lazaro Cardenas      MX  17.9583 -102.2000     27.96   \n",
       "8           8             Samarai      PG -10.6167  150.6667     27.72   \n",
       "9           9  Havre-Saint-Pierre      CA  50.2334  -63.5986     -8.67   \n",
       "\n",
       "   Humidity  Cloudiness  Wind Speed Current Description  \n",
       "0        93         100        0.51     overcast clouds  \n",
       "1        78          75        7.20       broken clouds  \n",
       "2        94         100        5.71                snow  \n",
       "3        70          99        3.83     overcast clouds  \n",
       "4        69          35        3.35    scattered clouds  \n",
       "5        88          75        0.51       broken clouds  \n",
       "6        77          97        1.27          light rain  \n",
       "7        64          11        4.28          few clouds  \n",
       "8        76          70        3.88       broken clouds  \n",
       "9        72         100        6.17     overcast clouds  "
      ]
     },
     "execution_count": 1,
     "metadata": {},
     "output_type": "execute_result"
    }
   ],
   "source": [
    "# Import dependencies\n",
    "import pandas as pd\n",
    "import requests\n",
    "import gmaps\n",
    "from config import g_key\n",
    "\n",
    "# Configure gmaps API key\n",
    "gmaps.configure(api_key=g_key)\n",
    "\n",
    "# Load weather data csv file as DataFrame\n",
    "weather_data_df = pd.read_csv(\"../Weather_Database/WeatherPy_database.csv\")\n",
    "\n",
    "# Inspect weather data DataFrame\n",
    "weather_data_df.head(10)"
   ]
  },
  {
   "cell_type": "markdown",
   "id": "31c002fd",
   "metadata": {},
   "source": [
    "# Filter weather data"
   ]
  },
  {
   "cell_type": "code",
   "execution_count": 2,
   "id": "7ff7c2bc",
   "metadata": {},
   "outputs": [
    {
     "name": "stdout",
     "output_type": "stream",
     "text": [
      "What is the minimum temperature you would like for your trip? 20\n",
      "What is the maximum temperature you would like for your trip? 30\n"
     ]
    }
   ],
   "source": [
    "# Prompt user to input minimum and maximum temperature criteria \n",
    "min_temp = float(input(\"What is the minimum temperature you would like for your trip? \"))\n",
    "max_temp = float(input(\"What is the maximum temperature you would like for your trip? \"))"
   ]
  },
  {
   "cell_type": "code",
   "execution_count": 3,
   "id": "49b4f9c7",
   "metadata": {},
   "outputs": [
    {
     "data": {
      "text/plain": [
       "Unnamed: 0             258\n",
       "City                   258\n",
       "Country                254\n",
       "Lat                    258\n",
       "Lng                    258\n",
       "Max Temp               258\n",
       "Humidity               258\n",
       "Cloudiness             258\n",
       "Wind Speed             258\n",
       "Current Description    258\n",
       "dtype: int64"
      ]
     },
     "execution_count": 3,
     "metadata": {},
     "output_type": "execute_result"
    }
   ],
   "source": [
    "# Filter weather data based on user input\n",
    "user_df = weather_data_df.loc[(weather_data_df[\"Max Temp\"] >= min_temp) &\n",
    "                              (weather_data_df[\"Max Temp\"] <= max_temp)]\n",
    "\n",
    "# Inspect user DataFrame for missing values\n",
    "user_df.count()"
   ]
  },
  {
   "cell_type": "code",
   "execution_count": 4,
   "id": "926b0738",
   "metadata": {
    "scrolled": true
   },
   "outputs": [
    {
     "data": {
      "text/plain": [
       "Unnamed: 0             254\n",
       "City                   254\n",
       "Country                254\n",
       "Lat                    254\n",
       "Lng                    254\n",
       "Max Temp               254\n",
       "Humidity               254\n",
       "Cloudiness             254\n",
       "Wind Speed             254\n",
       "Current Description    254\n",
       "dtype: int64"
      ]
     },
     "execution_count": 4,
     "metadata": {},
     "output_type": "execute_result"
    }
   ],
   "source": [
    "# Drop rows with empty values\n",
    "clean_df = user_df.dropna()\n",
    "\n",
    "# Inspect clean DataFrame\n",
    "clean_df.count()"
   ]
  },
  {
   "cell_type": "markdown",
   "id": "40cd9442",
   "metadata": {},
   "source": [
    "# Find hotels"
   ]
  },
  {
   "cell_type": "code",
   "execution_count": 5,
   "id": "be37e7d5",
   "metadata": {},
   "outputs": [
    {
     "data": {
      "text/html": [
       "<div>\n",
       "<style scoped>\n",
       "    .dataframe tbody tr th:only-of-type {\n",
       "        vertical-align: middle;\n",
       "    }\n",
       "\n",
       "    .dataframe tbody tr th {\n",
       "        vertical-align: top;\n",
       "    }\n",
       "\n",
       "    .dataframe thead th {\n",
       "        text-align: right;\n",
       "    }\n",
       "</style>\n",
       "<table border=\"1\" class=\"dataframe\">\n",
       "  <thead>\n",
       "    <tr style=\"text-align: right;\">\n",
       "      <th></th>\n",
       "      <th>City</th>\n",
       "      <th>Country</th>\n",
       "      <th>Max Temp</th>\n",
       "      <th>Current Description</th>\n",
       "      <th>Lat</th>\n",
       "      <th>Lng</th>\n",
       "      <th>Hotel Name</th>\n",
       "    </tr>\n",
       "  </thead>\n",
       "  <tbody>\n",
       "    <tr>\n",
       "      <th>1</th>\n",
       "      <td>Port Elizabeth</td>\n",
       "      <td>ZA</td>\n",
       "      <td>22.28</td>\n",
       "      <td>broken clouds</td>\n",
       "      <td>-33.9180</td>\n",
       "      <td>25.5701</td>\n",
       "      <td></td>\n",
       "    </tr>\n",
       "    <tr>\n",
       "      <th>4</th>\n",
       "      <td>Rikitea</td>\n",
       "      <td>PF</td>\n",
       "      <td>25.14</td>\n",
       "      <td>scattered clouds</td>\n",
       "      <td>-23.1203</td>\n",
       "      <td>-134.9692</td>\n",
       "      <td></td>\n",
       "    </tr>\n",
       "    <tr>\n",
       "      <th>5</th>\n",
       "      <td>Bambous Virieux</td>\n",
       "      <td>MU</td>\n",
       "      <td>25.68</td>\n",
       "      <td>broken clouds</td>\n",
       "      <td>-20.3428</td>\n",
       "      <td>57.7575</td>\n",
       "      <td></td>\n",
       "    </tr>\n",
       "    <tr>\n",
       "      <th>6</th>\n",
       "      <td>Kavieng</td>\n",
       "      <td>PG</td>\n",
       "      <td>27.63</td>\n",
       "      <td>light rain</td>\n",
       "      <td>-2.5744</td>\n",
       "      <td>150.7967</td>\n",
       "      <td></td>\n",
       "    </tr>\n",
       "    <tr>\n",
       "      <th>7</th>\n",
       "      <td>Lazaro Cardenas</td>\n",
       "      <td>MX</td>\n",
       "      <td>27.96</td>\n",
       "      <td>few clouds</td>\n",
       "      <td>17.9583</td>\n",
       "      <td>-102.2000</td>\n",
       "      <td></td>\n",
       "    </tr>\n",
       "    <tr>\n",
       "      <th>8</th>\n",
       "      <td>Samarai</td>\n",
       "      <td>PG</td>\n",
       "      <td>27.72</td>\n",
       "      <td>broken clouds</td>\n",
       "      <td>-10.6167</td>\n",
       "      <td>150.6667</td>\n",
       "      <td></td>\n",
       "    </tr>\n",
       "    <tr>\n",
       "      <th>14</th>\n",
       "      <td>Samarinda</td>\n",
       "      <td>ID</td>\n",
       "      <td>21.78</td>\n",
       "      <td>overcast clouds</td>\n",
       "      <td>-0.5000</td>\n",
       "      <td>117.1500</td>\n",
       "      <td></td>\n",
       "    </tr>\n",
       "    <tr>\n",
       "      <th>18</th>\n",
       "      <td>Souillac</td>\n",
       "      <td>MU</td>\n",
       "      <td>25.76</td>\n",
       "      <td>broken clouds</td>\n",
       "      <td>-20.5167</td>\n",
       "      <td>57.5167</td>\n",
       "      <td></td>\n",
       "    </tr>\n",
       "    <tr>\n",
       "      <th>22</th>\n",
       "      <td>Butaritari</td>\n",
       "      <td>KI</td>\n",
       "      <td>27.99</td>\n",
       "      <td>scattered clouds</td>\n",
       "      <td>3.0707</td>\n",
       "      <td>172.7902</td>\n",
       "      <td></td>\n",
       "    </tr>\n",
       "    <tr>\n",
       "      <th>28</th>\n",
       "      <td>Atuona</td>\n",
       "      <td>PF</td>\n",
       "      <td>25.93</td>\n",
       "      <td>light rain</td>\n",
       "      <td>-9.8000</td>\n",
       "      <td>-139.0333</td>\n",
       "      <td></td>\n",
       "    </tr>\n",
       "  </tbody>\n",
       "</table>\n",
       "</div>"
      ],
      "text/plain": [
       "               City Country  Max Temp Current Description      Lat       Lng  \\\n",
       "1    Port Elizabeth      ZA     22.28       broken clouds -33.9180   25.5701   \n",
       "4           Rikitea      PF     25.14    scattered clouds -23.1203 -134.9692   \n",
       "5   Bambous Virieux      MU     25.68       broken clouds -20.3428   57.7575   \n",
       "6           Kavieng      PG     27.63          light rain  -2.5744  150.7967   \n",
       "7   Lazaro Cardenas      MX     27.96          few clouds  17.9583 -102.2000   \n",
       "8           Samarai      PG     27.72       broken clouds -10.6167  150.6667   \n",
       "14        Samarinda      ID     21.78     overcast clouds  -0.5000  117.1500   \n",
       "18         Souillac      MU     25.76       broken clouds -20.5167   57.5167   \n",
       "22       Butaritari      KI     27.99    scattered clouds   3.0707  172.7902   \n",
       "28           Atuona      PF     25.93          light rain  -9.8000 -139.0333   \n",
       "\n",
       "   Hotel Name  \n",
       "1              \n",
       "4              \n",
       "5              \n",
       "6              \n",
       "7              \n",
       "8              \n",
       "14             \n",
       "18             \n",
       "22             \n",
       "28             "
      ]
     },
     "execution_count": 5,
     "metadata": {},
     "output_type": "execute_result"
    }
   ],
   "source": [
    "# Create hotel DataFrame\n",
    "hotel_df = clean_df[[\"City\", \"Country\", \"Max Temp\", \"Current Description\", \"Lat\", \"Lng\"]].copy()\n",
    "\n",
    "# Create new column to store hotel names\n",
    "hotel_df[\"Hotel Name\"] = \"\"\n",
    "\n",
    "# Inspect hotel DataFrame\n",
    "hotel_df.head(10)"
   ]
  },
  {
   "cell_type": "code",
   "execution_count": 6,
   "id": "7c33e287",
   "metadata": {},
   "outputs": [
    {
     "name": "stdout",
     "output_type": "stream",
     "text": [
      "Hotel not found... skipping.\n",
      "Hotel not found... skipping.\n",
      "Hotel not found... skipping.\n",
      "Hotel not found... skipping.\n",
      "Hotel not found... skipping.\n",
      "Hotel not found... skipping.\n",
      "Hotel not found... skipping.\n",
      "Hotel not found... skipping.\n",
      "Hotel not found... skipping.\n",
      "Hotel not found... skipping.\n",
      "Hotel not found... skipping.\n",
      "Hotel not found... skipping.\n",
      "Hotel not found... skipping.\n"
     ]
    }
   ],
   "source": [
    "# Set parameters to search for hotels within 5km\n",
    "params = {\n",
    "    \"radius\": 5000,\n",
    "    \"type\": \"lodging\",\n",
    "    \"key\": g_key\n",
    "}\n",
    "\n",
    "# Iterate through hotel DataFrame\n",
    "for index, row in hotel_df.iterrows():\n",
    "    \n",
    "    # Get latitude and longitude from hotel DataFrame\n",
    "    lat = row[\"Lat\"]\n",
    "    lng = row[\"Lng\"]\n",
    "    params[\"location\"] = f\"{lat},{lng}\"\n",
    "    \n",
    "    # Set up base URL for Google Directions API to get JSON data\n",
    "    base_url = \"https://maps.googleapis.com/maps/api/place/nearbysearch/json\"    \n",
    "\n",
    "    # Make request and retrieve JSON data from search\n",
    "    hotels = requests.get(base_url, params=params).json()   \n",
    "    \n",
    "    # Get first hotel from results and store name\n",
    "    try:\n",
    "        hotel_df.loc[index, \"Hotel Name\"] = hotels[\"results\"][0][\"name\"]\n",
    "    \n",
    "    # If no hotel found, skip city\n",
    "    except(IndexError):\n",
    "        print(\"Hotel not found... skipping.\")        "
   ]
  },
  {
   "cell_type": "code",
   "execution_count": 7,
   "id": "9077201a",
   "metadata": {
    "scrolled": false
   },
   "outputs": [
    {
     "data": {
      "text/plain": [
       "City                   254\n",
       "Country                254\n",
       "Max Temp               254\n",
       "Current Description    254\n",
       "Lat                    254\n",
       "Lng                    254\n",
       "Hotel Name             254\n",
       "dtype: int64"
      ]
     },
     "execution_count": 7,
     "metadata": {},
     "output_type": "execute_result"
    }
   ],
   "source": [
    "# Inspect hotel DataFrame for missing values\n",
    "hotel_df.count()"
   ]
  },
  {
   "cell_type": "code",
   "execution_count": 8,
   "id": "8ae3abb8",
   "metadata": {},
   "outputs": [
    {
     "data": {
      "text/plain": [
       "City                   13\n",
       "Country                13\n",
       "Max Temp               13\n",
       "Current Description    13\n",
       "Lat                    13\n",
       "Lng                    13\n",
       "Hotel Name             13\n",
       "dtype: int64"
      ]
     },
     "execution_count": 8,
     "metadata": {},
     "output_type": "execute_result"
    }
   ],
   "source": [
    "# Inspect hotel DataFrame for missing values\n",
    "hotel_df_blank = hotel_df.loc[(hotel_df[\"Hotel Name\"] == \"\")]\n",
    "hotel_df_blank.count()"
   ]
  },
  {
   "cell_type": "code",
   "execution_count": 9,
   "id": "55b27695",
   "metadata": {
    "scrolled": true
   },
   "outputs": [
    {
     "data": {
      "text/plain": [
       "City                   241\n",
       "Country                241\n",
       "Max Temp               241\n",
       "Current Description    241\n",
       "Lat                    241\n",
       "Lng                    241\n",
       "Hotel Name             241\n",
       "dtype: int64"
      ]
     },
     "execution_count": 9,
     "metadata": {},
     "output_type": "execute_result"
    }
   ],
   "source": [
    "# Drop blank hotel rows\n",
    "hotel_df_clean = hotel_df.loc[(hotel_df[\"Hotel Name\"] != \"\")]\n",
    "hotel_df_clean.count()"
   ]
  },
  {
   "cell_type": "code",
   "execution_count": 10,
   "id": "2eed3196",
   "metadata": {},
   "outputs": [],
   "source": [
    "# Export hotel data as csv file\n",
    "hotel_df_clean.to_csv(\"WeatherPy_vacation.csv\", index_label=\"City_ID\")"
   ]
  },
  {
   "cell_type": "markdown",
   "id": "ca53dea2",
   "metadata": {},
   "source": [
    "# Create hotel map"
   ]
  },
  {
   "cell_type": "code",
   "execution_count": 11,
   "id": "31a0d33e",
   "metadata": {},
   "outputs": [
    {
     "data": {
      "application/vnd.jupyter.widget-view+json": {
       "model_id": "384c531b96154fa5934d194eaed86051",
       "version_major": 2,
       "version_minor": 0
      },
      "text/plain": [
       "Figure(layout=FigureLayout(height='420px'))"
      ]
     },
     "metadata": {},
     "output_type": "display_data"
    }
   ],
   "source": [
    "# Create info box template\n",
    "info_box_template = \"\"\"\n",
    "<dl>\n",
    "<dt>Hotel Name</dt><dd>{Hotel Name}</dd>\n",
    "<dt>City</dt><dd>{City}</dd>\n",
    "<dt>Country</dt><dd>{Country}</dd>\n",
    "<dt>Weather Description</dt><dd>{Current Description}</dd>\n",
    "<dt>Max Temp</dt><dd>{Max Temp} °C</dd>\n",
    "</dl>\n",
    "\"\"\"\n",
    "\n",
    "# Iterate over hotel data to create list of hotel info to pass to info box content\n",
    "hotel_info = [info_box_template.format(**row) for index, row in hotel_df_clean.iterrows()]\n",
    "\n",
    "# Get latitude and longitude from each row of hotel data and store in a new DataFrame\n",
    "locations = hotel_df_clean[[\"Lat\", \"Lng\"]]\n",
    "\n",
    "# Generate map with hotel markers\n",
    "locations = hotel_df_clean[[\"Lat\", \"Lng\"]]\n",
    "fig = gmaps.figure()\n",
    "marker_layer = gmaps.marker_layer(locations, info_box_content=hotel_info)\n",
    "fig.add_layer(marker_layer)\n",
    "\n",
    "# Call map figure\n",
    "fig"
   ]
  },
  {
   "cell_type": "code",
   "execution_count": null,
   "id": "a4cf743e",
   "metadata": {},
   "outputs": [],
   "source": []
  }
 ],
 "metadata": {
  "kernelspec": {
   "display_name": "PythonData",
   "language": "python",
   "name": "pythondata"
  },
  "language_info": {
   "codemirror_mode": {
    "name": "ipython",
    "version": 3
   },
   "file_extension": ".py",
   "mimetype": "text/x-python",
   "name": "python",
   "nbconvert_exporter": "python",
   "pygments_lexer": "ipython3",
   "version": "3.7.11"
  }
 },
 "nbformat": 4,
 "nbformat_minor": 5
}
