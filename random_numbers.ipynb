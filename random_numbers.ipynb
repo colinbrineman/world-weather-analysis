{
 "cells": [
  {
   "cell_type": "code",
   "execution_count": 1,
   "id": "e26e855a",
   "metadata": {},
   "outputs": [],
   "source": [
    "# Import the random module.\n",
    "\n",
    "import random"
   ]
  },
  {
   "cell_type": "code",
   "execution_count": 2,
   "id": "cdbe102f",
   "metadata": {},
   "outputs": [
    {
     "data": {
      "text/plain": [
       "-38"
      ]
     },
     "execution_count": 2,
     "metadata": {},
     "output_type": "execute_result"
    }
   ],
   "source": [
    "random.randint(-90, 90)"
   ]
  },
  {
   "cell_type": "code",
   "execution_count": 3,
   "id": "6606c6fd",
   "metadata": {},
   "outputs": [
    {
     "data": {
      "text/plain": [
       "0.7766097922103097"
      ]
     },
     "execution_count": 3,
     "metadata": {},
     "output_type": "execute_result"
    }
   ],
   "source": [
    "random.random()"
   ]
  },
  {
   "cell_type": "code",
   "execution_count": 4,
   "id": "d8aa1426",
   "metadata": {},
   "outputs": [
    {
     "data": {
      "text/plain": [
       "-77.17834900745953"
      ]
     },
     "execution_count": 4,
     "metadata": {},
     "output_type": "execute_result"
    }
   ],
   "source": [
    "random_number = random.randint(-90, 90) + random.random()\n",
    "random_number"
   ]
  },
  {
   "cell_type": "code",
   "execution_count": 5,
   "id": "e840805a",
   "metadata": {},
   "outputs": [],
   "source": [
    "x = 1\n",
    "latitudes = []\n",
    "while x < 11:\n",
    "    random_lat = random.randint(-90, 89) + random.random()\n",
    "    latitudes.append(random_lat)\n",
    "    x += 1"
   ]
  },
  {
   "cell_type": "code",
   "execution_count": 6,
   "id": "c3e193e1",
   "metadata": {},
   "outputs": [
    {
     "data": {
      "text/plain": [
       "[13.623815997110267,\n",
       " -87.48284782177053,\n",
       " -2.751348090846489,\n",
       " -75.914403497897,\n",
       " 74.30255123390212,\n",
       " -5.347815222672708,\n",
       " 24.04384242809581,\n",
       " -81.930981187442,\n",
       " 47.91838803677018,\n",
       " -45.099121447254845]"
      ]
     },
     "execution_count": 6,
     "metadata": {},
     "output_type": "execute_result"
    }
   ],
   "source": [
    "latitudes"
   ]
  },
  {
   "cell_type": "code",
   "execution_count": 7,
   "id": "1694f22f",
   "metadata": {},
   "outputs": [
    {
     "data": {
      "text/plain": [
       "-45"
      ]
     },
     "execution_count": 7,
     "metadata": {},
     "output_type": "execute_result"
    }
   ],
   "source": [
    "random.randrange(-90, 90, step=1)"
   ]
  },
  {
   "cell_type": "code",
   "execution_count": 8,
   "id": "7a324894",
   "metadata": {},
   "outputs": [
    {
     "data": {
      "text/plain": [
       "69"
      ]
     },
     "execution_count": 8,
     "metadata": {},
     "output_type": "execute_result"
    }
   ],
   "source": [
    "random.randrange(-90, 90, step=3)"
   ]
  },
  {
   "cell_type": "code",
   "execution_count": 9,
   "id": "ed610b69",
   "metadata": {},
   "outputs": [
    {
     "data": {
      "text/plain": [
       "-47.24537365840156"
      ]
     },
     "execution_count": 9,
     "metadata": {},
     "output_type": "execute_result"
    }
   ],
   "source": [
    "random.uniform(-90, 90)"
   ]
  },
  {
   "cell_type": "code",
   "execution_count": 10,
   "id": "d4836e86",
   "metadata": {},
   "outputs": [],
   "source": [
    "# Import the NumPy module.\n",
    "\n",
    "import numpy as np"
   ]
  },
  {
   "cell_type": "code",
   "execution_count": 11,
   "id": "88e4e2d4",
   "metadata": {},
   "outputs": [
    {
     "data": {
      "text/plain": [
       "60.202379235859325"
      ]
     },
     "execution_count": 11,
     "metadata": {},
     "output_type": "execute_result"
    }
   ],
   "source": [
    "np.random.uniform(-90,90)"
   ]
  },
  {
   "cell_type": "code",
   "execution_count": 12,
   "id": "958ae9ea",
   "metadata": {},
   "outputs": [
    {
     "data": {
      "text/plain": [
       "66.7312792361653"
      ]
     },
     "execution_count": 12,
     "metadata": {},
     "output_type": "execute_result"
    }
   ],
   "source": [
    "np.random.uniform(low=-90, high=90)"
   ]
  },
  {
   "cell_type": "code",
   "execution_count": 13,
   "id": "84f8960a",
   "metadata": {},
   "outputs": [
    {
     "data": {
      "text/plain": [
       "array([ 8.09157709e+00,  3.03191983e+01, -8.33382572e+01,  7.64494512e+01,\n",
       "       -8.69362909e+01,  2.93971015e+01,  7.80822636e+01,  2.96332523e+01,\n",
       "        6.56550730e+01,  7.42065955e+01,  6.39142386e+01,  4.63154110e+01,\n",
       "        5.13054597e+01,  4.39996153e+01, -3.15329757e+01,  9.48637652e+00,\n",
       "       -7.96221666e+01, -4.22965707e+01,  4.88563839e+00,  6.74740252e+01,\n",
       "       -2.94936757e+01,  1.60564035e+01,  1.08729964e+01, -1.79492616e+01,\n",
       "        3.23242449e+01, -5.08928894e+01,  5.61569097e+01, -8.53385024e+01,\n",
       "        6.08273680e+01,  1.78034488e+01,  2.29967744e-02, -2.22914948e+01,\n",
       "        3.67552214e+00, -7.02660947e+01, -5.08630310e+01,  2.54531177e+01,\n",
       "       -5.35673823e+01, -5.72548337e+01, -2.64462066e+01,  3.82512927e+01,\n",
       "        8.60515993e+01,  7.19805617e+01,  3.99392849e+01,  3.63896414e+01,\n",
       "        8.83405502e+01,  5.80446152e+01,  4.45116487e+01,  2.52463443e+01,\n",
       "       -6.26351672e+01,  1.52287559e+01])"
      ]
     },
     "execution_count": 13,
     "metadata": {},
     "output_type": "execute_result"
    }
   ],
   "source": [
    "np.random.uniform(-90.000, 90.000, size=50)"
   ]
  },
  {
   "cell_type": "code",
   "execution_count": 14,
   "id": "ca853a53",
   "metadata": {},
   "outputs": [],
   "source": [
    "# Import timeit.\n",
    "\n",
    "import timeit"
   ]
  },
  {
   "cell_type": "code",
   "execution_count": 15,
   "id": "61558487",
   "metadata": {},
   "outputs": [
    {
     "name": "stdout",
     "output_type": "stream",
     "text": [
      "61.6 µs ± 18.1 µs per loop (mean ± std. dev. of 7 runs, 10000 loops each)\n"
     ]
    }
   ],
   "source": [
    "# Test how long it takes to create 1500 list of random latitudes with numpy\n",
    "\n",
    "%timeit np.random.uniform(-90.000, 90.000, size=1500)"
   ]
  },
  {
   "cell_type": "code",
   "execution_count": 16,
   "id": "47450bde",
   "metadata": {},
   "outputs": [
    {
     "name": "stdout",
     "output_type": "stream",
     "text": [
      "9.74 ms ± 1.93 ms per loop (mean ± std. dev. of 7 runs, 100 loops each)\n"
     ]
    }
   ],
   "source": [
    "# Test how long it takes to create 1500 list of random latitudes with random\n",
    "\n",
    "def latitudes(size):\n",
    "    latitudes = []\n",
    "    x = 0\n",
    "    while x < (size):\n",
    "        random_lat = random.randint(-90, 90) + random.random()\n",
    "        latitudes.append(random_lat)\n",
    "        x += 1\n",
    "    return latitudes\n",
    "\n",
    "# Call the function with 1500.\n",
    "%timeit latitudes(1500)"
   ]
  },
  {
   "cell_type": "code",
   "execution_count": null,
   "id": "9c5bae96",
   "metadata": {},
   "outputs": [],
   "source": []
  }
 ],
 "metadata": {
  "interpreter": {
   "hash": "a5387b9da968551e43e0ccab31c37bebadc093c630309dcd510e17231b5b064a"
  },
  "kernelspec": {
   "display_name": "PythonData",
   "language": "python",
   "name": "python3"
  },
  "language_info": {
   "codemirror_mode": {
    "name": "ipython",
    "version": 3
   },
   "file_extension": ".py",
   "mimetype": "text/x-python",
   "name": "python",
   "nbconvert_exporter": "python",
   "pygments_lexer": "ipython3",
   "version": "3.7.11"
  }
 },
 "nbformat": 4,
 "nbformat_minor": 5
}
