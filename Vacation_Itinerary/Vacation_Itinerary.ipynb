{
 "cells": [
  {
   "cell_type": "markdown",
   "id": "717e15c9",
   "metadata": {},
   "source": [
    "#### Vacation_Itinerary\n",
    "#### Colin Brineman, M.A."
   ]
  },
  {
   "cell_type": "markdown",
   "id": "30dc0240",
   "metadata": {},
   "source": [
    "# Import vacation data"
   ]
  },
  {
   "cell_type": "code",
   "execution_count": 1,
   "id": "57b6a573",
   "metadata": {},
   "outputs": [],
   "source": [
    "# Import dependencies\n",
    "import pandas as pd\n",
    "import requests\n",
    "import gmaps\n",
    "import gmaps.datasets\n",
    "from config import g_key\n",
    "\n",
    "# Configure gmaps API key\n",
    "gmaps.configure(api_key=g_key)"
   ]
  },
  {
   "cell_type": "code",
   "execution_count": 2,
   "id": "a596365b",
   "metadata": {
    "scrolled": true
   },
   "outputs": [
    {
     "data": {
      "text/html": [
       "<div>\n",
       "<style scoped>\n",
       "    .dataframe tbody tr th:only-of-type {\n",
       "        vertical-align: middle;\n",
       "    }\n",
       "\n",
       "    .dataframe tbody tr th {\n",
       "        vertical-align: top;\n",
       "    }\n",
       "\n",
       "    .dataframe thead th {\n",
       "        text-align: right;\n",
       "    }\n",
       "</style>\n",
       "<table border=\"1\" class=\"dataframe\">\n",
       "  <thead>\n",
       "    <tr style=\"text-align: right;\">\n",
       "      <th></th>\n",
       "      <th>City_ID</th>\n",
       "      <th>City</th>\n",
       "      <th>Country</th>\n",
       "      <th>Max Temp</th>\n",
       "      <th>Current Description</th>\n",
       "      <th>Lat</th>\n",
       "      <th>Lng</th>\n",
       "      <th>Hotel Name</th>\n",
       "    </tr>\n",
       "  </thead>\n",
       "  <tbody>\n",
       "    <tr>\n",
       "      <th>0</th>\n",
       "      <td>1</td>\n",
       "      <td>Port Elizabeth</td>\n",
       "      <td>ZA</td>\n",
       "      <td>22.28</td>\n",
       "      <td>broken clouds</td>\n",
       "      <td>-33.9180</td>\n",
       "      <td>25.5701</td>\n",
       "      <td>39 On Nile Guest House</td>\n",
       "    </tr>\n",
       "    <tr>\n",
       "      <th>1</th>\n",
       "      <td>4</td>\n",
       "      <td>Rikitea</td>\n",
       "      <td>PF</td>\n",
       "      <td>25.14</td>\n",
       "      <td>scattered clouds</td>\n",
       "      <td>-23.1203</td>\n",
       "      <td>-134.9692</td>\n",
       "      <td>People ThankYou</td>\n",
       "    </tr>\n",
       "    <tr>\n",
       "      <th>2</th>\n",
       "      <td>5</td>\n",
       "      <td>Bambous Virieux</td>\n",
       "      <td>MU</td>\n",
       "      <td>25.68</td>\n",
       "      <td>broken clouds</td>\n",
       "      <td>-20.3428</td>\n",
       "      <td>57.7575</td>\n",
       "      <td>Casa Tia Villa</td>\n",
       "    </tr>\n",
       "    <tr>\n",
       "      <th>3</th>\n",
       "      <td>6</td>\n",
       "      <td>Kavieng</td>\n",
       "      <td>PG</td>\n",
       "      <td>27.63</td>\n",
       "      <td>light rain</td>\n",
       "      <td>-2.5744</td>\n",
       "      <td>150.7967</td>\n",
       "      <td>Nusa Island Retreat</td>\n",
       "    </tr>\n",
       "    <tr>\n",
       "      <th>4</th>\n",
       "      <td>7</td>\n",
       "      <td>Lazaro Cardenas</td>\n",
       "      <td>MX</td>\n",
       "      <td>27.96</td>\n",
       "      <td>few clouds</td>\n",
       "      <td>17.9583</td>\n",
       "      <td>-102.2000</td>\n",
       "      <td>quinta antigua</td>\n",
       "    </tr>\n",
       "  </tbody>\n",
       "</table>\n",
       "</div>"
      ],
      "text/plain": [
       "   City_ID             City Country  Max Temp Current Description      Lat  \\\n",
       "0        1   Port Elizabeth      ZA     22.28       broken clouds -33.9180   \n",
       "1        4          Rikitea      PF     25.14    scattered clouds -23.1203   \n",
       "2        5  Bambous Virieux      MU     25.68       broken clouds -20.3428   \n",
       "3        6          Kavieng      PG     27.63          light rain  -2.5744   \n",
       "4        7  Lazaro Cardenas      MX     27.96          few clouds  17.9583   \n",
       "\n",
       "        Lng              Hotel Name  \n",
       "0   25.5701  39 On Nile Guest House  \n",
       "1 -134.9692         People ThankYou  \n",
       "2   57.7575          Casa Tia Villa  \n",
       "3  150.7967     Nusa Island Retreat  \n",
       "4 -102.2000          quinta antigua  "
      ]
     },
     "execution_count": 2,
     "metadata": {},
     "output_type": "execute_result"
    }
   ],
   "source": [
    "# Load vacation data csv as DataFrame.\n",
    "vacation_df = pd.read_csv(\"../Vacation_Search/WeatherPy_vacation.csv\")\n",
    "vacation_df.head()"
   ]
  },
  {
   "cell_type": "markdown",
   "id": "77b1e413",
   "metadata": {},
   "source": [
    "# Create vacation map"
   ]
  },
  {
   "cell_type": "code",
   "execution_count": 3,
   "id": "e7d04899",
   "metadata": {},
   "outputs": [
    {
     "data": {
      "application/vnd.jupyter.widget-view+json": {
       "model_id": "b61f2bb773f84e96a148729cc86e8e13",
       "version_major": 2,
       "version_minor": 0
      },
      "text/plain": [
       "Figure(layout=FigureLayout(height='420px'))"
      ]
     },
     "metadata": {},
     "output_type": "display_data"
    }
   ],
   "source": [
    "#  Create info box template\n",
    "info_box_template = \"\"\"\n",
    "<dl>\n",
    "<dt>Hotel Name</dt><dd>{Hotel Name}</dd>\n",
    "<dt>City</dt><dd>{City}</dd>\n",
    "<dt>Country</dt><dd>{Country}</dd>\n",
    "<dt>Weather Description</dt><dd>{Current Description}</dd>\n",
    "<dt>Max Temp</dt><dd>{Max Temp} °C</dd>\n",
    "</dl>\n",
    "\"\"\"\n",
    "\n",
    "# Iterate over vacation data to create list of hotel info to pass to info box content\n",
    "hotel_info = [info_box_template.format(**row) for index, row in vacation_df.iterrows()]\n",
    "\n",
    "# Get latitude and longitude from each row of vacation data and store in a new DataFrame\n",
    "locations = vacation_df[[\"Lat\", \"Lng\"]]\n",
    "\n",
    "# Generate map with hotel markers\n",
    "fig = gmaps.figure()\n",
    "marker_layer = gmaps.marker_layer(locations, info_box_content=hotel_info)\n",
    "fig.add_layer(marker_layer)\n",
    "\n",
    "# Call map figure\n",
    "fig"
   ]
  },
  {
   "cell_type": "markdown",
   "id": "83756109",
   "metadata": {},
   "source": [
    "# Creation itinerary directions map"
   ]
  },
  {
   "cell_type": "code",
   "execution_count": 4,
   "id": "19d15c5a",
   "metadata": {},
   "outputs": [],
   "source": [
    "# Create DataFrame for each itinerary city\n",
    "vacation_start = vacation_df.loc[vacation_df[\"City\"]==\"Dunedin\"]\n",
    "vacation_end = vacation_df.loc[vacation_df[\"City\"]==\"Dunedin\"]\n",
    "vacation_stop1 = vacation_df.loc[vacation_df[\"City\"]==\"Kaitangata\"]\n",
    "vacation_stop2 = vacation_df.loc[vacation_df[\"City\"]==\"Tuatapere\"]\n",
    "vacation_stop3 = vacation_df.loc[vacation_df[\"City\"]==\"Wanaka\"]"
   ]
  },
  {
   "cell_type": "code",
   "execution_count": 5,
   "id": "279e80f9",
   "metadata": {},
   "outputs": [],
   "source": [
    "# Store itinerary city latitude/longitude pairs as tuples\n",
    "start = vacation_start.to_numpy()[0,(5,6)]\n",
    "end = vacation_end.to_numpy()[0,(5,6)]\n",
    "stop1 = vacation_stop1.to_numpy()[0,(5,6)]\n",
    "stop2 = vacation_stop2.to_numpy()[0,(5,6)]\n",
    "stop3 = vacation_stop3.to_numpy()[0,(5,6)]"
   ]
  },
  {
   "cell_type": "code",
   "execution_count": 6,
   "id": "d032018c",
   "metadata": {},
   "outputs": [
    {
     "data": {
      "application/vnd.jupyter.widget-view+json": {
       "model_id": "07bdbed7b2f948e4938b701080ecefc3",
       "version_major": 2,
       "version_minor": 0
      },
      "text/plain": [
       "Figure(layout=FigureLayout(height='420px'))"
      ]
     },
     "metadata": {},
     "output_type": "display_data"
    }
   ],
   "source": [
    "# Generate map with directions to itinerary cities\n",
    "fig = gmaps.figure()\n",
    "new_zealand_vacation = gmaps.directions_layer(start, end, waypoints=[stop1, stop2, stop3], travel_mode='BICYCLING')\n",
    "fig.add_layer(new_zealand_vacation)\n",
    "\n",
    "# Call map figure\n",
    "fig"
   ]
  },
  {
   "cell_type": "code",
   "execution_count": 7,
   "id": "96d396eb",
   "metadata": {},
   "outputs": [
    {
     "data": {
      "text/html": [
       "<div>\n",
       "<style scoped>\n",
       "    .dataframe tbody tr th:only-of-type {\n",
       "        vertical-align: middle;\n",
       "    }\n",
       "\n",
       "    .dataframe tbody tr th {\n",
       "        vertical-align: top;\n",
       "    }\n",
       "\n",
       "    .dataframe thead th {\n",
       "        text-align: right;\n",
       "    }\n",
       "</style>\n",
       "<table border=\"1\" class=\"dataframe\">\n",
       "  <thead>\n",
       "    <tr style=\"text-align: right;\">\n",
       "      <th></th>\n",
       "      <th>City_ID</th>\n",
       "      <th>City</th>\n",
       "      <th>Country</th>\n",
       "      <th>Max Temp</th>\n",
       "      <th>Current Description</th>\n",
       "      <th>Lat</th>\n",
       "      <th>Lng</th>\n",
       "      <th>Hotel Name</th>\n",
       "    </tr>\n",
       "  </thead>\n",
       "  <tbody>\n",
       "    <tr>\n",
       "      <th>0</th>\n",
       "      <td>316</td>\n",
       "      <td>Dunedin</td>\n",
       "      <td>NZ</td>\n",
       "      <td>20.45</td>\n",
       "      <td>overcast clouds</td>\n",
       "      <td>-45.8742</td>\n",
       "      <td>170.5036</td>\n",
       "      <td>Scenic Hotel Southern Cross</td>\n",
       "    </tr>\n",
       "    <tr>\n",
       "      <th>1</th>\n",
       "      <td>316</td>\n",
       "      <td>Dunedin</td>\n",
       "      <td>NZ</td>\n",
       "      <td>20.45</td>\n",
       "      <td>overcast clouds</td>\n",
       "      <td>-45.8742</td>\n",
       "      <td>170.5036</td>\n",
       "      <td>Scenic Hotel Southern Cross</td>\n",
       "    </tr>\n",
       "    <tr>\n",
       "      <th>2</th>\n",
       "      <td>158</td>\n",
       "      <td>Kaitangata</td>\n",
       "      <td>NZ</td>\n",
       "      <td>20.36</td>\n",
       "      <td>overcast clouds</td>\n",
       "      <td>-46.2817</td>\n",
       "      <td>169.8464</td>\n",
       "      <td>Kaitangata Motor Camp</td>\n",
       "    </tr>\n",
       "    <tr>\n",
       "      <th>3</th>\n",
       "      <td>107</td>\n",
       "      <td>Tuatapere</td>\n",
       "      <td>NZ</td>\n",
       "      <td>20.33</td>\n",
       "      <td>overcast clouds</td>\n",
       "      <td>-46.1333</td>\n",
       "      <td>167.6833</td>\n",
       "      <td>Ron and Tony's Bed &amp; Breakfast</td>\n",
       "    </tr>\n",
       "    <tr>\n",
       "      <th>4</th>\n",
       "      <td>535</td>\n",
       "      <td>Wanaka</td>\n",
       "      <td>NZ</td>\n",
       "      <td>20.06</td>\n",
       "      <td>overcast clouds</td>\n",
       "      <td>-44.7000</td>\n",
       "      <td>169.1500</td>\n",
       "      <td>Wanaka Homestead Lodge and Cottages</td>\n",
       "    </tr>\n",
       "  </tbody>\n",
       "</table>\n",
       "</div>"
      ],
      "text/plain": [
       "   City_ID        City Country  Max Temp Current Description      Lat  \\\n",
       "0      316     Dunedin      NZ     20.45     overcast clouds -45.8742   \n",
       "1      316     Dunedin      NZ     20.45     overcast clouds -45.8742   \n",
       "2      158  Kaitangata      NZ     20.36     overcast clouds -46.2817   \n",
       "3      107   Tuatapere      NZ     20.33     overcast clouds -46.1333   \n",
       "4      535      Wanaka      NZ     20.06     overcast clouds -44.7000   \n",
       "\n",
       "        Lng                           Hotel Name  \n",
       "0  170.5036          Scenic Hotel Southern Cross  \n",
       "1  170.5036          Scenic Hotel Southern Cross  \n",
       "2  169.8464                Kaitangata Motor Camp  \n",
       "3  167.6833       Ron and Tony's Bed & Breakfast  \n",
       "4  169.1500  Wanaka Homestead Lodge and Cottages  "
      ]
     },
     "execution_count": 7,
     "metadata": {},
     "output_type": "execute_result"
    }
   ],
   "source": [
    "# Combine itinerary city DataFrames\n",
    "itinerary_df = pd.concat([vacation_start, vacation_end, vacation_stop1, vacation_stop2, vacation_stop3],ignore_index=True)\n",
    "\n",
    "# Inspect itinerary DataFrame\n",
    "itinerary_df"
   ]
  },
  {
   "cell_type": "markdown",
   "id": "3be0e17e",
   "metadata": {},
   "source": [
    "# Add markers to itinerary directions map"
   ]
  },
  {
   "cell_type": "code",
   "execution_count": 8,
   "id": "768dd825",
   "metadata": {},
   "outputs": [
    {
     "data": {
      "application/vnd.jupyter.widget-view+json": {
       "model_id": "d4bfa711d1cc4822bd0d222f529fcd12",
       "version_major": 2,
       "version_minor": 0
      },
      "text/plain": [
       "Figure(layout=FigureLayout(height='420px'))"
      ]
     },
     "metadata": {},
     "output_type": "display_data"
    }
   ],
   "source": [
    "# Create info box template \n",
    "info_box_template = \"\"\"\n",
    "<dl>\n",
    "<dt>Hotel Name</dt><dd>{Hotel Name}</dd>\n",
    "<dt>City</dt><dd>{City}</dd>\n",
    "<dt>Country</dt><dd>{Country}</dd>\n",
    "<dt>Weather Description</dt><dd>{Current Description}</dd>\n",
    "<dt>Max Temp</dt><dd>{Max Temp} °C</dd>\n",
    "</dl>\n",
    "\"\"\"\n",
    "\n",
    "# Iterate over itinerary data to create list of hotel info to pass to info box content\n",
    "hotel_info = [info_box_template.format(**row) for index, row in itinerary_df.iterrows()]\n",
    "\n",
    "# Get latitude and longitude from each row of vacation data and store in a new DataFrame\n",
    "locations = itinerary_df[[\"Lat\", \"Lng\"]]\n",
    "\n",
    "# Generate itinerary directions map with markers\n",
    "fig = gmaps.figure()\n",
    "marker_layer = gmaps.marker_layer(locations, info_box_content=hotel_info)\n",
    "fig.add_layer(marker_layer)\n",
    "\n",
    "# Call map figure\n",
    "fig"
   ]
  },
  {
   "cell_type": "code",
   "execution_count": null,
   "id": "b82d0436",
   "metadata": {},
   "outputs": [],
   "source": []
  }
 ],
 "metadata": {
  "kernelspec": {
   "display_name": "PythonData",
   "language": "python",
   "name": "pythondata"
  },
  "language_info": {
   "codemirror_mode": {
    "name": "ipython",
    "version": 3
   },
   "file_extension": ".py",
   "mimetype": "text/x-python",
   "name": "python",
   "nbconvert_exporter": "python",
   "pygments_lexer": "ipython3",
   "version": "3.7.11"
  }
 },
 "nbformat": 4,
 "nbformat_minor": 5
}
